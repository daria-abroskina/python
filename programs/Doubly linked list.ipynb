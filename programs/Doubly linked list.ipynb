{
 "cells": [
  {
   "cell_type": "markdown",
   "metadata": {},
   "source": [
    "# <span style=\"color:midnightblue\">Двусвязный список</span> "
   ]
  },
  {
   "cell_type": "markdown",
   "metadata": {},
   "source": [
    "В программе реализована структура двусвязного списка (структура данных, в которых в каждом узле хранится ссылка на следующий и предыдущий объекты списка).    \n",
    " \n",
    "В программе объявлены два класса: \n",
    "\n",
    "- ObjList - для представления узла списка   \n",
    "- LinkedList - для представления всего списка в целом\n",
    "\n",
    "В классе LinkedList объявлены следующие методы:   \n",
    "1. add_obj(obj) - добавление нового объекта obj класса ObjList в конец связного списка;   \n",
    "2. remove_obj(indx) - удаление объекта класса ObjList из связного списка по его порядковому номеру (индексу); индекс отсчитывается с нуля;   \n",
    "3. len(linked_lst) - возвращает число объектов в связном списке;   \n",
    "4. linked_lst(indx) - возвращает строку __data, хранящуюся в объекте класса ObjList, расположенного под индексом indx (в связном списке)."
   ]
  },
  {
   "cell_type": "markdown",
   "metadata": {},
   "source": [
    "<span style=\"color:darkblue\">*(eng) This is a doubly linked list (a data structure in which each node stores references to the previous and to the next node).*     \n",
    "    \n",
    "<span style=\"color:darkblue\">*There are 2 classes:*  \n",
    "- <span style=\"color:darkblue\">*ObjList - to represent a node of the list*</span>   \n",
    "- <span style=\"color:darkblue\">*LinkedList - to represent the whole list*</span>       \n",
    "    \n",
    "<span style=\"color:darkblue\">*The following methods are declared in the Stack class:*</span> \n",
    "- <span style=\"color:darkblue\">*add_obj(obj) - adding a new object to the end of the list*</span>    \n",
    "- <span style=\"color:darkblue\">*remove_obj(indx) - removing an objects from the end of the list*</span>\n",
    "- <span style=\"color:darkblue\">*len(linked_lst) - counting the quantity of objects in the list*</span>   \n",
    "- <span style=\"color:darkblue\">*linked_lst(indx) - returns a string __data stored in the ObjList at index 'indx'*</span>    "
   ]
  },
  {
   "cell_type": "code",
   "execution_count": 1,
   "metadata": {},
   "outputs": [],
   "source": [
    "class ObjList:\n",
    "     def __init__(self, data):\n",
    "        self.__next = None\n",
    "        self.__prev = None\n",
    "        self.__data = data\n",
    "\n",
    "     @property\n",
    "     def next(self):\n",
    "          return self.__next\n",
    "     @next.setter\n",
    "     def next(self, obj):\n",
    "        self.__next = obj\n",
    "\n",
    "     @property\n",
    "     def prev(self):\n",
    "         return self.__prev\n",
    "     @prev.setter\n",
    "     def prev(self, obj):\n",
    "         self.__prev = obj\n",
    "\n",
    "     @property\n",
    "     def data(self):\n",
    "        return self.__data\n",
    "     @data.setter\n",
    "     def data(self, data):\n",
    "         self.__data = data\n",
    "\n",
    "class LinkedList:\n",
    "    def __init__(self):\n",
    "        self.head = None\n",
    "        self.tail = None\n",
    "\n",
    "    def add_obj(self, obj): # добавление элемента в конец связного списка\n",
    "        if self.head is None:\n",
    "            self.head = obj\n",
    "        if self.tail:\n",
    "            self.tail.next = obj\n",
    "        obj.prev = self.tail\n",
    "        obj.next = None\n",
    "        self.tail = obj\n",
    "\n",
    "    def remove_obj(self, indx): # удаление элемента из связного списка по индексу\n",
    "        n = self.head\n",
    "        if indx == 0:\n",
    "            if self.head.next == None:\n",
    "                self.head = None\n",
    "                self.tail = None\n",
    "            else:\n",
    "                self.head = n.next\n",
    "        else:\n",
    "            indx_num = 0\n",
    "            while indx_num < indx:\n",
    "                n = n.next\n",
    "                indx_num += 1\n",
    "            if n.next is None:\n",
    "                self.tail = n.prev\n",
    "                n.prev.next = None\n",
    "            else:\n",
    "                n.prev.next = n.next.next\n",
    "                n.next.prev = n.prev.prev\n",
    "                n = None\n",
    "\n",
    "    def __len__(self):\n",
    "        indx_num = 0\n",
    "        n = self.head\n",
    "        while n is not None:\n",
    "            indx_num += 1\n",
    "            n = n.next\n",
    "        return indx_num\n",
    "\n",
    "    def __call__(self, indx, *args, **kwargs):\n",
    "        n = self.head\n",
    "        indx_num = 0\n",
    "        while indx_num < indx:\n",
    "            n = n.next\n",
    "            indx_num += 1\n",
    "        return n.data"
   ]
  },
  {
   "cell_type": "code",
   "execution_count": 3,
   "metadata": {},
   "outputs": [
    {
     "name": "stdout",
     "output_type": "stream",
     "text": [
      "3\n",
      "obj2\n"
     ]
    }
   ],
   "source": [
    "linked_lst = LinkedList()\n",
    "\n",
    "linked_lst.add_obj(ObjList(\"obj1\"))\n",
    "linked_lst.add_obj(ObjList(\"obj2\"))\n",
    "linked_lst.add_obj(ObjList(\"obj3\"))\n",
    "linked_lst.remove_obj(0)\n",
    "linked_lst.add_obj(ObjList(\"obj4\"))\n",
    "\n",
    "n = len(linked_lst)  # n = 3\n",
    "print(n)\n",
    "s = linked_lst(0) # s = obj2\n",
    "print(s)"
   ]
  }
 ],
 "metadata": {
  "kernelspec": {
   "display_name": "Python 3",
   "language": "python",
   "name": "python3"
  },
  "language_info": {
   "codemirror_mode": {
    "name": "ipython",
    "version": 3
   },
   "file_extension": ".py",
   "mimetype": "text/x-python",
   "name": "python",
   "nbconvert_exporter": "python",
   "pygments_lexer": "ipython3",
   "version": "3.8.5"
  }
 },
 "nbformat": 4,
 "nbformat_minor": 4
}

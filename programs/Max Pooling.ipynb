{
 "cells": [
  {
   "cell_type": "markdown",
   "metadata": {},
   "source": [
    "# <span style=\"color:midnightblue\">Max Pooling</span> "
   ]
  },
  {
   "cell_type": "markdown",
   "metadata": {},
   "source": [
    "В нейронных сетях использую операцию под названием Max Pooling. Суть ее состоит в сканировании прямоугольной таблицы чисел (матрицы) окном определенного размера (обычно, 2x2 элемента) и выбора наибольшего значения в пределах этого окна. "
   ]
  },
  {
   "cell_type": "markdown",
   "metadata": {},
   "source": [
    "![MaxPooling1](http://www.megabagus.id/wp-content/uploads/Machine_Learning/deep_learning/CNN/maxpool2.jpg)"
   ]
  },
  {
   "cell_type": "markdown",
   "metadata": {},
   "source": [
    "Если окна выходят за пределы матрицы, то они пропускаются (игнорируются):"
   ]
  },
  {
   "cell_type": "markdown",
   "metadata": {},
   "source": [
    "![MaxPooling2](http://www.megabagus.id/wp-content/uploads/Machine_Learning/deep_learning/CNN/maxpoolakhir.jpg)"
   ]
  },
  {
   "cell_type": "markdown",
   "metadata": {},
   "source": [
    "В данной программе реализована операция Max Pooling через класс MaxPooling. Для выполнения операции Max Pooling используется команда:   \n",
    "\n",
    "    res = mp(matrix)  \n",
    "    \n",
    "где matrix - прямоугольная матрица.     "
   ]
  },
  {
   "cell_type": "markdown",
   "metadata": {},
   "source": [
    "<span style=\"color:darkblue\">*(eng) Neural networks use an operation called Max Pooling - scanning a rectangular matrix with a window of a certain size (usually 2x2 elements) and choosing the largest value within this window.*</span>     \n",
    "    \n",
    "<span style=\"color:darkblue\">*If the windows go beyond the matrix, then they are ignored.*</span>        \n",
    "\n",
    "<span style=\"color:darkblue\">*This program performs the Max Pooling operation using this command:*</span> \n",
    "\n",
    "    res = mp(matrix) \n",
    "    \n",
    "<span style=\"color:darkblue\">*where matrix is a rectangular matrix.*</span>     "
   ]
  },
  {
   "cell_type": "code",
   "execution_count": 1,
   "metadata": {},
   "outputs": [],
   "source": [
    "import numpy as np\n",
    "\n",
    "class MaxPooling:\n",
    "    def __init__(self, step = (2, 2), size = (2,2)):\n",
    "        self.step = step # шаг (степ)\n",
    "        self.size = size # окно\n",
    "\n",
    "    def __call__(self, matrix):\n",
    "        for i in range(len(matrix)):\n",
    "            for j in range(len(matrix[i])):\n",
    "                if type(matrix[i][j]) not in (int, float):\n",
    "                    raise ValueError(\"Неверный формат для первого параметра matrix.\")\n",
    "\n",
    "        for i in range(len(matrix)):\n",
    "            if len(matrix[i]) != len(matrix[i-1]):\n",
    "                raise ValueError(\"Неверный формат для первого параметра matrix.\")\n",
    "\n",
    "        np_matrix = np.array(matrix)\n",
    "        max_pool_rows = (np_matrix.shape[0]-self.size[0])//self.step[0] + 1\n",
    "        max_pool_cols = (np_matrix.shape[1]-self.size[1])//self.step[1] + 1\n",
    "\n",
    "        max_pool = np.array([[0 for i in range(max_pool_cols)] for j in range(max_pool_rows)])\n",
    "\n",
    "        row = 0\n",
    "        column = 0\n",
    "        for i in range(max_pool.shape[0]):\n",
    "            for j in range(max_pool.shape[1]):\n",
    "                window = np_matrix[row:row+self.size[0], column:column+self.size[1]]\n",
    "                max_pool[i, j] = np.amax(window)\n",
    "\n",
    "                column = column + self.step[1]\n",
    "            row = row + self.step[0]\n",
    "            column = 0\n",
    "\n",
    "        return max_pool.tolist()"
   ]
  },
  {
   "cell_type": "code",
   "execution_count": 14,
   "metadata": {},
   "outputs": [
    {
     "name": "stdout",
     "output_type": "stream",
     "text": [
      "Resulting matrix 1: [[6, 8], [9, 7]] \n",
      "\n",
      "Resulting matrix 2: [[10]] \n",
      "\n",
      "Resulting matrix 3: [[12]]\n"
     ]
    }
   ],
   "source": [
    "mp = MaxPooling()\n",
    "res1 = mp([[1, 2, 3, 4], [5, 6, 7, 8], [9, 8, 7, 6], [5, 4, 3, 2]])\n",
    "print('Resulting matrix 1:', res1, '\\n')\n",
    "\n",
    "\n",
    "mp = MaxPooling()\n",
    "m1 = [[1, 10, 10], [5, 10, 0], [0, 1, 2]]\n",
    "res2 = mp(m1)\n",
    "print('Resulting matrix 2:', res2, '\\n')\n",
    "\n",
    "\n",
    "mp = MaxPooling(step=(3, 3), size=(2,2))\n",
    "m3 = [[1, 12, 14, 12], [5, 10, 0, -5], [0, 1, 2, 300], [40, -100, 0, 54.5]]\n",
    "res3 = mp(m3)\n",
    "print('Resulting matrix 3:', res3)"
   ]
  }
 ],
 "metadata": {
  "kernelspec": {
   "display_name": "Python 3",
   "language": "python",
   "name": "python3"
  },
  "language_info": {
   "codemirror_mode": {
    "name": "ipython",
    "version": 3
   },
   "file_extension": ".py",
   "mimetype": "text/x-python",
   "name": "python",
   "nbconvert_exporter": "python",
   "pygments_lexer": "ipython3",
   "version": "3.8.5"
  }
 },
 "nbformat": 4,
 "nbformat_minor": 4
}
